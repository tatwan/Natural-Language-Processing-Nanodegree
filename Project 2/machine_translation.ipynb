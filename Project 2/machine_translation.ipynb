{
 "cells": [
  {
   "cell_type": "markdown",
   "metadata": {
    "collapsed": true
   },
   "source": [
    "# Artificial Intelligence Nanodegree\n",
    "## Machine Translation Project\n",
    "In this notebook, sections that end with **'(IMPLEMENTATION)'** in the header indicate that the following blocks of code will require additional functionality which you must provide. Please be sure to read the instructions carefully!\n",
    "\n",
    "## Introduction\n",
    "In this notebook, you will build a deep neural network that functions as part of an end-to-end machine translation pipeline. Your completed pipeline will accept English text as input and return the French translation.\n",
    "\n",
    "- **Preprocess** - You'll convert text to sequence of integers.\n",
    "- **Models** Create models which accepts a sequence of integers as input and returns a probability distribution over possible translations. After learning about the basic types of neural networks that are often used for machine translation, you will engage in your own investigations, to design your own model!\n",
    "- **Prediction** Run the model on English text."
   ]
  },
  {
   "cell_type": "code",
   "execution_count": 1,
   "metadata": {},
   "outputs": [],
   "source": [
    "%load_ext autoreload\n",
    "%aimport helper, tests\n",
    "%autoreload 1"
   ]
  },
  {
   "cell_type": "code",
   "execution_count": 2,
   "metadata": {},
   "outputs": [
    {
     "name": "stderr",
     "output_type": "stream",
     "text": [
      "Using TensorFlow backend.\n"
     ]
    }
   ],
   "source": [
    "import collections\n",
    "\n",
    "import helper\n",
    "import numpy as np\n",
    "import project_tests as tests\n",
    "\n",
    "from keras.preprocessing.text import Tokenizer\n",
    "from keras.preprocessing.sequence import pad_sequences\n",
    "from keras.models import Model\n",
    "from keras.layers import GRU, Input, Dense, TimeDistributed, Activation, RepeatVector, Bidirectional\n",
    "from keras.layers.embeddings import Embedding\n",
    "from keras.optimizers import Adam\n",
    "from keras.losses import sparse_categorical_crossentropy"
   ]
  },
  {
   "cell_type": "markdown",
   "metadata": {},
   "source": [
    "### Verify access to the GPU\n",
    "The following test applies only if you expect to be using a GPU, e.g., while running in a Udacity Workspace or using an AWS instance with GPU support. Run the next cell, and verify that the device_type is \"GPU\".\n",
    "- If the device is not GPU & you are running from a Udacity Workspace, then save your workspace with the icon at the top, then click \"enable\" at the bottom of the workspace.\n",
    "- If the device is not GPU & you are running from an AWS instance, then refer to the cloud computing instructions in the classroom to verify your setup steps."
   ]
  },
  {
   "cell_type": "code",
   "execution_count": 3,
   "metadata": {},
   "outputs": [
    {
     "name": "stdout",
     "output_type": "stream",
     "text": [
      "[name: \"/cpu:0\"\n",
      "device_type: \"CPU\"\n",
      "memory_limit: 268435456\n",
      "locality {\n",
      "}\n",
      "incarnation: 6882675515020478237\n",
      ", name: \"/gpu:0\"\n",
      "device_type: \"GPU\"\n",
      "memory_limit: 357367808\n",
      "locality {\n",
      "  bus_id: 1\n",
      "}\n",
      "incarnation: 10321480176441804370\n",
      "physical_device_desc: \"device: 0, name: Tesla K80, pci bus id: 0000:00:04.0\"\n",
      "]\n"
     ]
    }
   ],
   "source": [
    "from tensorflow.python.client import device_lib\n",
    "print(device_lib.list_local_devices())"
   ]
  },
  {
   "cell_type": "markdown",
   "metadata": {},
   "source": [
    "## Dataset\n",
    "We begin by investigating the dataset that will be used to train and evaluate your pipeline.  The most common datasets used for machine translation are from [WMT](http://www.statmt.org/).  However, that will take a long time to train a neural network on.  We'll be using a dataset we created for this project that contains a small vocabulary.  You'll be able to train your model in a reasonable time with this dataset.\n",
    "### Load Data\n",
    "The data is located in `data/small_vocab_en` and `data/small_vocab_fr`. The `small_vocab_en` file contains English sentences with their French translations in the `small_vocab_fr` file. Load the English and French data from these files from running the cell below."
   ]
  },
  {
   "cell_type": "code",
   "execution_count": 4,
   "metadata": {},
   "outputs": [
    {
     "name": "stdout",
     "output_type": "stream",
     "text": [
      "Dataset Loaded\n"
     ]
    }
   ],
   "source": [
    "# Load English data\n",
    "english_sentences = helper.load_data('data/small_vocab_en')\n",
    "# Load French data\n",
    "french_sentences = helper.load_data('data/small_vocab_fr')\n",
    "\n",
    "print('Dataset Loaded')"
   ]
  },
  {
   "cell_type": "markdown",
   "metadata": {},
   "source": [
    "### Files\n",
    "Each line in `small_vocab_en` contains an English sentence with the respective translation in each line of `small_vocab_fr`.  View the first two lines from each file."
   ]
  },
  {
   "cell_type": "code",
   "execution_count": 5,
   "metadata": {},
   "outputs": [
    {
     "name": "stdout",
     "output_type": "stream",
     "text": [
      "small_vocab_en Line 1:  new jersey is sometimes quiet during autumn , and it is snowy in april .\n",
      "small_vocab_fr Line 1:  new jersey est parfois calme pendant l' automne , et il est neigeux en avril .\n",
      "small_vocab_en Line 2:  the united states is usually chilly during july , and it is usually freezing in november .\n",
      "small_vocab_fr Line 2:  les états-unis est généralement froid en juillet , et il gèle habituellement en novembre .\n"
     ]
    }
   ],
   "source": [
    "for sample_i in range(2):\n",
    "    print('small_vocab_en Line {}:  {}'.format(sample_i + 1, english_sentences[sample_i]))\n",
    "    print('small_vocab_fr Line {}:  {}'.format(sample_i + 1, french_sentences[sample_i]))"
   ]
  },
  {
   "cell_type": "markdown",
   "metadata": {},
   "source": [
    "From looking at the sentences, you can see they have been preprocessed already.  The puncuations have been delimited using spaces. All the text have been converted to lowercase.  This should save you some time, but the text requires more preprocessing.\n",
    "### Vocabulary\n",
    "The complexity of the problem is determined by the complexity of the vocabulary.  A more complex vocabulary is a more complex problem.  Let's look at the complexity of the dataset we'll be working with."
   ]
  },
  {
   "cell_type": "code",
   "execution_count": 6,
   "metadata": {},
   "outputs": [
    {
     "name": "stdout",
     "output_type": "stream",
     "text": [
      "1823250 English words.\n",
      "227 unique English words.\n",
      "10 Most common words in the English dataset:\n",
      "\"is\" \",\" \".\" \"in\" \"it\" \"during\" \"the\" \"but\" \"and\" \"sometimes\"\n",
      "\n",
      "1961295 French words.\n",
      "355 unique French words.\n",
      "10 Most common words in the French dataset:\n",
      "\"est\" \".\" \",\" \"en\" \"il\" \"les\" \"mais\" \"et\" \"la\" \"parfois\"\n"
     ]
    }
   ],
   "source": [
    "english_words_counter = collections.Counter([word for sentence in english_sentences for word in sentence.split()])\n",
    "french_words_counter = collections.Counter([word for sentence in french_sentences for word in sentence.split()])\n",
    "\n",
    "print('{} English words.'.format(len([word for sentence in english_sentences for word in sentence.split()])))\n",
    "print('{} unique English words.'.format(len(english_words_counter)))\n",
    "print('10 Most common words in the English dataset:')\n",
    "print('\"' + '\" \"'.join(list(zip(*english_words_counter.most_common(10)))[0]) + '\"')\n",
    "print()\n",
    "print('{} French words.'.format(len([word for sentence in french_sentences for word in sentence.split()])))\n",
    "print('{} unique French words.'.format(len(french_words_counter)))\n",
    "print('10 Most common words in the French dataset:')\n",
    "print('\"' + '\" \"'.join(list(zip(*french_words_counter.most_common(10)))[0]) + '\"')"
   ]
  },
  {
   "cell_type": "markdown",
   "metadata": {},
   "source": [
    "For comparison, _Alice's Adventures in Wonderland_ contains 2,766 unique words of a total of 15,500 words.\n",
    "## Preprocess\n",
    "For this project, you won't use text data as input to your model. Instead, you'll convert the text into sequences of integers using the following preprocess methods:\n",
    "1. Tokenize the words into ids\n",
    "2. Add padding to make all the sequences the same length.\n",
    "\n",
    "Time to start preprocessing the data...\n",
    "### Tokenize (IMPLEMENTATION)\n",
    "For a neural network to predict on text data, it first has to be turned into data it can understand. Text data like \"dog\" is a sequence of ASCII character encodings.  Since a neural network is a series of multiplication and addition operations, the input data needs to be number(s).\n",
    "\n",
    "We can turn each character into a number or each word into a number.  These are called character and word ids, respectively.  Character ids are used for character level models that generate text predictions for each character.  A word level model uses word ids that generate text predictions for each word.  Word level models tend to learn better, since they are lower in complexity, so we'll use those.\n",
    "\n",
    "Turn each sentence into a sequence of words ids using Keras's [`Tokenizer`](https://keras.io/preprocessing/text/#tokenizer) function. Use this function to tokenize `english_sentences` and `french_sentences` in the cell below.\n",
    "\n",
    "Running the cell will run `tokenize` on sample data and show output for debugging."
   ]
  },
  {
   "cell_type": "code",
   "execution_count": 7,
   "metadata": {},
   "outputs": [
    {
     "name": "stdout",
     "output_type": "stream",
     "text": [
      "{'the': 1, 'quick': 2, 'a': 3, 'brown': 4, 'fox': 5, 'jumps': 6, 'over': 7, 'lazy': 8, 'dog': 9, 'by': 10, 'jove': 11, 'my': 12, 'study': 13, 'of': 14, 'lexicography': 15, 'won': 16, 'prize': 17, 'this': 18, 'is': 19, 'short': 20, 'sentence': 21}\n",
      "\n",
      "Sequence 1 in x\n",
      "  Input:  The quick brown fox jumps over the lazy dog .\n",
      "  Output: [1, 2, 4, 5, 6, 7, 1, 8, 9]\n",
      "Sequence 2 in x\n",
      "  Input:  By Jove , my quick study of lexicography won a prize .\n",
      "  Output: [10, 11, 12, 2, 13, 14, 15, 16, 3, 17]\n",
      "Sequence 3 in x\n",
      "  Input:  This is a short sentence .\n",
      "  Output: [18, 19, 3, 20, 21]\n"
     ]
    }
   ],
   "source": [
    "def tokenize(x):\n",
    "    \"\"\"\n",
    "    Tokenize x\n",
    "    :param x: List of sentences/strings to be tokenized\n",
    "    :return: Tuple of (tokenized x data, tokenizer used to tokenize x)\n",
    "    \"\"\"\n",
    "    # TODO: Implement\n",
    "    t = Tokenizer()\n",
    "    t.fit_on_texts(x)\n",
    "    \n",
    "    return t.texts_to_sequences(x), t\n",
    "tests.test_tokenize(tokenize)\n",
    "\n",
    "# Tokenize Example output\n",
    "text_sentences = [\n",
    "    'The quick brown fox jumps over the lazy dog .',\n",
    "    'By Jove , my quick study of lexicography won a prize .',\n",
    "    'This is a short sentence .']\n",
    "text_tokenized, text_tokenizer = tokenize(text_sentences)\n",
    "print(text_tokenizer.word_index)\n",
    "print()\n",
    "for sample_i, (sent, token_sent) in enumerate(zip(text_sentences, text_tokenized)):\n",
    "    print('Sequence {} in x'.format(sample_i + 1))\n",
    "    print('  Input:  {}'.format(sent))\n",
    "    print('  Output: {}'.format(token_sent))"
   ]
  },
  {
   "cell_type": "markdown",
   "metadata": {},
   "source": [
    "### Padding (IMPLEMENTATION)\n",
    "When batching the sequence of word ids together, each sequence needs to be the same length.  Since sentences are dynamic in length, we can add padding to the end of the sequences to make them the same length.\n",
    "\n",
    "Make sure all the English sequences have the same length and all the French sequences have the same length by adding padding to the **end** of each sequence using Keras's [`pad_sequences`](https://keras.io/preprocessing/sequence/#pad_sequences) function."
   ]
  },
  {
   "cell_type": "code",
   "execution_count": 8,
   "metadata": {},
   "outputs": [
    {
     "name": "stdout",
     "output_type": "stream",
     "text": [
      "Sequence 1 in x\n",
      "  Input:  [1 2 4 5 6 7 1 8 9]\n",
      "  Output: [1 2 4 5 6 7 1 8 9 0]\n",
      "Sequence 2 in x\n",
      "  Input:  [10 11 12  2 13 14 15 16  3 17]\n",
      "  Output: [10 11 12  2 13 14 15 16  3 17]\n",
      "Sequence 3 in x\n",
      "  Input:  [18 19  3 20 21]\n",
      "  Output: [18 19  3 20 21  0  0  0  0  0]\n"
     ]
    }
   ],
   "source": [
    "def pad(x, length=None):\n",
    "    \"\"\"\n",
    "    Pad x\n",
    "    :param x: List of sequences.\n",
    "    :param length: Length to pad the sequence to.  If None, use length of longest sequence in x.\n",
    "    :return: Padded numpy array of sequences\n",
    "    \"\"\"\n",
    "    # TODO: Implement\n",
    "    if length is None:\n",
    "        length = max([len(sentence) for sentence in x])\n",
    "    return pad_sequences(x, maxlen=length, padding='post')\n",
    "\n",
    "tests.test_pad(pad)\n",
    "\n",
    "# Pad Tokenized output\n",
    "test_pad = pad(text_tokenized)\n",
    "for sample_i, (token_sent, pad_sent) in enumerate(zip(text_tokenized, test_pad)):\n",
    "    print('Sequence {} in x'.format(sample_i + 1))\n",
    "    print('  Input:  {}'.format(np.array(token_sent)))\n",
    "    print('  Output: {}'.format(pad_sent))"
   ]
  },
  {
   "cell_type": "markdown",
   "metadata": {},
   "source": [
    "### Preprocess Pipeline\n",
    "Your focus for this project is to build neural network architecture, so we won't ask you to create a preprocess pipeline.  Instead, we've provided you with the implementation of the `preprocess` function."
   ]
  },
  {
   "cell_type": "code",
   "execution_count": 9,
   "metadata": {},
   "outputs": [
    {
     "name": "stdout",
     "output_type": "stream",
     "text": [
      "Data Preprocessed\n",
      "Max English sentence length: 15\n",
      "Max French sentence length: 21\n",
      "English vocabulary size: 199\n",
      "French vocabulary size: 344\n"
     ]
    }
   ],
   "source": [
    "def preprocess(x, y):\n",
    "    \"\"\"\n",
    "    Preprocess x and y\n",
    "    :param x: Feature List of sentences\n",
    "    :param y: Label List of sentences\n",
    "    :return: Tuple of (Preprocessed x, Preprocessed y, x tokenizer, y tokenizer)\n",
    "    \"\"\"\n",
    "    preprocess_x, x_tk = tokenize(x)\n",
    "    preprocess_y, y_tk = tokenize(y)\n",
    "\n",
    "    preprocess_x = pad(preprocess_x)\n",
    "    preprocess_y = pad(preprocess_y)\n",
    "\n",
    "    # Keras's sparse_categorical_crossentropy function requires the labels to be in 3 dimensions\n",
    "    preprocess_y = preprocess_y.reshape(*preprocess_y.shape, 1)\n",
    "\n",
    "    return preprocess_x, preprocess_y, x_tk, y_tk\n",
    "\n",
    "preproc_english_sentences, preproc_french_sentences, english_tokenizer, french_tokenizer =\\\n",
    "    preprocess(english_sentences, french_sentences)\n",
    "    \n",
    "max_english_sequence_length = preproc_english_sentences.shape[1]\n",
    "max_french_sequence_length = preproc_french_sentences.shape[1]\n",
    "english_vocab_size = len(english_tokenizer.word_index)\n",
    "french_vocab_size = len(french_tokenizer.word_index)\n",
    "\n",
    "print('Data Preprocessed')\n",
    "print(\"Max English sentence length:\", max_english_sequence_length)\n",
    "print(\"Max French sentence length:\", max_french_sequence_length)\n",
    "print(\"English vocabulary size:\", english_vocab_size)\n",
    "print(\"French vocabulary size:\", french_vocab_size)"
   ]
  },
  {
   "cell_type": "markdown",
   "metadata": {},
   "source": [
    "## Models\n",
    "In this section, you will experiment with various neural network architectures.\n",
    "You will begin by training four relatively simple architectures.\n",
    "- Model 1 is a simple RNN\n",
    "- Model 2 is a RNN with Embedding\n",
    "- Model 3 is a Bidirectional RNN\n",
    "- Model 4 is an optional Encoder-Decoder RNN\n",
    "\n",
    "After experimenting with the four simple architectures, you will construct a deeper architecture that is designed to outperform all four models.\n",
    "### Ids Back to Text\n",
    "The neural network will be translating the input to words ids, which isn't the final form we want.  We want the French translation.  The function `logits_to_text` will bridge the gab between the logits from the neural network to the French translation.  You'll be using this function to better understand the output of the neural network."
   ]
  },
  {
   "cell_type": "code",
   "execution_count": 10,
   "metadata": {},
   "outputs": [
    {
     "name": "stdout",
     "output_type": "stream",
     "text": [
      "`logits_to_text` function loaded.\n"
     ]
    }
   ],
   "source": [
    "def logits_to_text(logits, tokenizer):\n",
    "    \"\"\"\n",
    "    Turn logits from a neural network into text using the tokenizer\n",
    "    :param logits: Logits from a neural network\n",
    "    :param tokenizer: Keras Tokenizer fit on the labels\n",
    "    :return: String that represents the text of the logits\n",
    "    \"\"\"\n",
    "    index_to_words = {id: word for word, id in tokenizer.word_index.items()}\n",
    "    index_to_words[0] = '<PAD>'\n",
    "\n",
    "    return ' '.join([index_to_words[prediction] for prediction in np.argmax(logits, 1)])\n",
    "\n",
    "print('`logits_to_text` function loaded.')"
   ]
  },
  {
   "cell_type": "markdown",
   "metadata": {},
   "source": [
    "### Model 1: RNN (IMPLEMENTATION)\n",
    "![RNN](images/rnn.png)\n",
    "A basic RNN model is a good baseline for sequence data.  In this model, you'll build a RNN that translates English to French."
   ]
  },
  {
   "cell_type": "code",
   "execution_count": 11,
   "metadata": {},
   "outputs": [],
   "source": [
    "tmp_x = pad(preproc_english_sentences, max_french_sequence_length)\n",
    "tmp_x = tmp_x.reshape((-1, preproc_french_sentences.shape[-2], 1))"
   ]
  },
  {
   "cell_type": "code",
   "execution_count": 12,
   "metadata": {},
   "outputs": [
    {
     "name": "stdout",
     "output_type": "stream",
     "text": [
      "input_shape: (21, 1)\n",
      "output_sequence_length 15\n",
      "english_vocab_size 199\n",
      "french_vocab_size 344\n"
     ]
    }
   ],
   "source": [
    "print('input_shape:',tmp_x.shape[1:])\n",
    "print('output_sequence_length', max_english_sequence_length)\n",
    "print('english_vocab_size', english_vocab_size)\n",
    "print('french_vocab_size', french_vocab_size)"
   ]
  },
  {
   "cell_type": "markdown",
   "metadata": {},
   "source": [
    "#### Note: Keras provides two APIs a [Functional API](https://keras.io/getting-started/functional-api-guide/) and a [Sequential API](https://keras.io/getting-started/sequential-model-guide/). \n",
    "\n",
    "Advantages of Functional API according to Keras Documentation:\n",
    "> \"The Keras functional API is the way to go for defining complex models, such as multi-output models, directed acyclic graphs, or models with shared layers.\""
   ]
  },
  {
   "cell_type": "markdown",
   "metadata": {},
   "source": [
    "**Example `simple_model` written using Functioanl API style**\n",
    "* Increase units from 64 to 128 to see if accuracy increases and increase EPOCHS from 10 to 15."
   ]
  },
  {
   "cell_type": "code",
   "execution_count": 13,
   "metadata": {},
   "outputs": [
    {
     "name": "stdout",
     "output_type": "stream",
     "text": [
      "Train on 110288 samples, validate on 27573 samples\n",
      "Epoch 1/15\n",
      "110288/110288 [==============================] - 10s 89us/step - loss: 3.0001 - acc: 0.4482 - val_loss: nan - val_acc: 0.4904\n",
      "Epoch 2/15\n",
      "110288/110288 [==============================] - 8s 72us/step - loss: 2.0288 - acc: 0.5318 - val_loss: nan - val_acc: 0.5647\n",
      "Epoch 3/15\n",
      "110288/110288 [==============================] - 8s 72us/step - loss: 1.6845 - acc: 0.5791 - val_loss: nan - val_acc: 0.5931\n",
      "Epoch 4/15\n",
      "110288/110288 [==============================] - 8s 73us/step - loss: 1.5435 - acc: 0.6002 - val_loss: nan - val_acc: 0.6054\n",
      "Epoch 5/15\n",
      "110288/110288 [==============================] - 8s 72us/step - loss: 1.4531 - acc: 0.6121 - val_loss: nan - val_acc: 0.6177\n",
      "Epoch 6/15\n",
      "110288/110288 [==============================] - 8s 72us/step - loss: 1.3822 - acc: 0.6233 - val_loss: nan - val_acc: 0.6329\n",
      "Epoch 7/15\n",
      "110288/110288 [==============================] - 8s 72us/step - loss: 1.3202 - acc: 0.6347 - val_loss: nan - val_acc: 0.6394\n",
      "Epoch 8/15\n",
      "110288/110288 [==============================] - 8s 72us/step - loss: 1.2644 - acc: 0.6454 - val_loss: nan - val_acc: 0.6507\n",
      "Epoch 9/15\n",
      "110288/110288 [==============================] - 8s 72us/step - loss: 1.2182 - acc: 0.6506 - val_loss: nan - val_acc: 0.6529\n",
      "Epoch 10/15\n",
      "110288/110288 [==============================] - 8s 72us/step - loss: 1.1784 - acc: 0.6552 - val_loss: nan - val_acc: 0.6559\n",
      "Epoch 11/15\n",
      "110288/110288 [==============================] - 8s 72us/step - loss: 1.1467 - acc: 0.6595 - val_loss: nan - val_acc: 0.6608\n",
      "Epoch 12/15\n",
      "110288/110288 [==============================] - 8s 72us/step - loss: 1.1204 - acc: 0.6627 - val_loss: nan - val_acc: 0.6621\n",
      "Epoch 13/15\n",
      "110288/110288 [==============================] - 8s 72us/step - loss: 1.0986 - acc: 0.6655 - val_loss: nan - val_acc: 0.6646\n",
      "Epoch 14/15\n",
      "110288/110288 [==============================] - 8s 72us/step - loss: 1.0786 - acc: 0.6680 - val_loss: nan - val_acc: 0.6680\n",
      "Epoch 15/15\n",
      "110288/110288 [==============================] - 8s 72us/step - loss: 1.0604 - acc: 0.6716 - val_loss: nan - val_acc: 0.6716\n"
     ]
    },
    {
     "data": {
      "text/plain": [
       "<keras.callbacks.History at 0x7f9cc81ffd30>"
      ]
     },
     "execution_count": 13,
     "metadata": {},
     "output_type": "execute_result"
    }
   ],
   "source": [
    "def simple_model(input_shape, output_sequence_length, english_vocab_size, french_vocab_size):\n",
    "    \"\"\"\n",
    "    Build and train a basic RNN on x and y\n",
    "    :param input_shape: Tuple of input shape\n",
    "    :param output_sequence_length: Length of output sequence\n",
    "    :param english_vocab_size: Number of unique English words in the dataset\n",
    "    :param french_vocab_size: Number of unique French words in the dataset\n",
    "    :return: Keras model built, but not trained\n",
    "    \"\"\"\n",
    "    # TODO: Build the layers\n",
    "    learning_rate = 1e-3\n",
    "    input_seq = Input(input_shape[1:])\n",
    "    \n",
    "    rnn = GRU(128, return_sequences=True)(input_seq)\n",
    "    \n",
    "    logits = TimeDistributed(Dense(french_vocab_size))(rnn)\n",
    "    \n",
    "    model = Model(input_seq, Activation('softmax')(logits))\n",
    "    model.compile(loss=sparse_categorical_crossentropy,\n",
    "                  optimizer=Adam(learning_rate),\n",
    "                  metrics=['accuracy'])\n",
    "    return model\n",
    "tests.test_simple_model(simple_model)\n",
    "\n",
    "# Reshaping the input to work with a basic RNN\n",
    "tmp_x = pad(preproc_english_sentences, max_french_sequence_length)\n",
    "tmp_x = tmp_x.reshape((-1, preproc_french_sentences.shape[-2], 1))\n",
    "\n",
    "# Train the neural network\n",
    "simple_rnn_model = simple_model(\n",
    "    tmp_x.shape,\n",
    "    max_french_sequence_length,\n",
    "    english_vocab_size,\n",
    "    french_vocab_size)\n",
    "simple_rnn_model.fit(tmp_x, preproc_french_sentences, batch_size=1024, epochs=15, validation_split=0.2)\n"
   ]
  },
  {
   "cell_type": "code",
   "execution_count": 30,
   "metadata": {},
   "outputs": [
    {
     "name": "stdout",
     "output_type": "stream",
     "text": [
      "new jersey is sometimes quiet during autumn , and it is snowy in april .\n",
      "new jersey est parfois calme en l' de il est est en en <PAD> <PAD> <PAD> <PAD> <PAD> <PAD> <PAD> <PAD>\n"
     ]
    }
   ],
   "source": [
    "# Print prediction(s)\n",
    "print(english_sentences[:1][0])\n",
    "print(logits_to_text(simple_rnn_model.predict(tmp_x[:1])[0], french_tokenizer))"
   ]
  },
  {
   "cell_type": "markdown",
   "metadata": {},
   "source": [
    "using google translate this French Sentence equates to saying: \n",
    "> \"new jersey is sometimes calm in months and it is it is in\""
   ]
  },
  {
   "cell_type": "markdown",
   "metadata": {},
   "source": [
    "**Rewriting the same `simple_model` function but in Sequential style**"
   ]
  },
  {
   "cell_type": "code",
   "execution_count": 27,
   "metadata": {},
   "outputs": [
    {
     "name": "stdout",
     "output_type": "stream",
     "text": [
      "Train on 110288 samples, validate on 27573 samples\n",
      "Epoch 1/15\n",
      "110288/110288 [==============================] - 8s 68us/step - loss: 2.9794 - acc: 0.4429 - val_loss: nan - val_acc: 0.4946\n",
      "Epoch 2/15\n",
      "110288/110288 [==============================] - 7s 64us/step - loss: 2.0323 - acc: 0.5403 - val_loss: nan - val_acc: 0.5705\n",
      "Epoch 3/15\n",
      "110288/110288 [==============================] - 7s 64us/step - loss: 1.6937 - acc: 0.5793 - val_loss: nan - val_acc: 0.5932\n",
      "Epoch 4/15\n",
      "110288/110288 [==============================] - 7s 64us/step - loss: 1.5508 - acc: 0.5993 - val_loss: nan - val_acc: 0.6046\n",
      "Epoch 5/15\n",
      "110288/110288 [==============================] - 7s 64us/step - loss: 1.4566 - acc: 0.6160 - val_loss: nan - val_acc: 0.6258\n",
      "Epoch 6/15\n",
      "110288/110288 [==============================] - 7s 64us/step - loss: 1.3811 - acc: 0.6275 - val_loss: nan - val_acc: 0.6301\n",
      "Epoch 7/15\n",
      "110288/110288 [==============================] - 7s 64us/step - loss: 1.3183 - acc: 0.6369 - val_loss: nan - val_acc: 0.6399\n",
      "Epoch 8/15\n",
      "110288/110288 [==============================] - 7s 64us/step - loss: 1.2670 - acc: 0.6457 - val_loss: nan - val_acc: 0.6504\n",
      "Epoch 9/15\n",
      "110288/110288 [==============================] - 7s 64us/step - loss: 1.2247 - acc: 0.6516 - val_loss: nan - val_acc: 0.6519\n",
      "Epoch 10/15\n",
      "110288/110288 [==============================] - 7s 64us/step - loss: 1.1906 - acc: 0.6557 - val_loss: nan - val_acc: 0.6563\n",
      "Epoch 11/15\n",
      "110288/110288 [==============================] - 7s 65us/step - loss: 1.1628 - acc: 0.6587 - val_loss: nan - val_acc: 0.6598\n",
      "Epoch 12/15\n",
      "110288/110288 [==============================] - 7s 64us/step - loss: 1.1395 - acc: 0.6616 - val_loss: nan - val_acc: 0.6631\n",
      "Epoch 13/15\n",
      "110288/110288 [==============================] - 7s 64us/step - loss: 1.1190 - acc: 0.6641 - val_loss: nan - val_acc: 0.6649\n",
      "Epoch 14/15\n",
      "110288/110288 [==============================] - 7s 64us/step - loss: 1.1023 - acc: 0.6662 - val_loss: nan - val_acc: 0.6685\n",
      "Epoch 15/15\n",
      "110288/110288 [==============================] - 7s 64us/step - loss: 1.0849 - acc: 0.6696 - val_loss: nan - val_acc: 0.6707\n"
     ]
    },
    {
     "data": {
      "text/plain": [
       "<keras.callbacks.History at 0x7f3f80716f60>"
      ]
     },
     "execution_count": 27,
     "metadata": {},
     "output_type": "execute_result"
    }
   ],
   "source": [
    "from keras.models import Sequential\n",
    "from keras.layers import LSTM\n",
    "\n",
    "def simple_model(input_shape, output_sequence_length, english_vocab_size, french_vocab_size):\n",
    "    \"\"\"\n",
    "    Build and train a basic RNN on x and y\n",
    "    :param input_shape: Tuple of input shape\n",
    "    :param output_sequence_length: Length of output sequence\n",
    "    :param english_vocab_size: Number of unique English words in the dataset\n",
    "    :param french_vocab_size: Number of unique French words in the dataset\n",
    "    :return: Keras model built, but not trained\n",
    "    \"\"\"\n",
    "    # TODO: Build the layers\n",
    "    learning_rate = 1e-3\n",
    "    \n",
    "    model = Sequential()\n",
    "    model.add(GRU(128, return_sequences=True, activation='tanh', input_shape=input_shape[1:]))\n",
    "    model.add(TimeDistributed(Dense(french_vocab_size, activation='softmax')))\n",
    "    \n",
    "    model.compile(loss=sparse_categorical_crossentropy,\n",
    "                  optimizer=Adam(learning_rate),\n",
    "                  metrics=['accuracy'])\n",
    "    return model\n",
    "tests.test_simple_model(simple_model)\n",
    "\n",
    "# Reshaping the input to work with a basic RNN\n",
    "tmp_x = pad(preproc_english_sentences, max_french_sequence_length)\n",
    "tmp_x = tmp_x.reshape((-1, preproc_french_sentences.shape[-2], 1))\n",
    "\n",
    "# Train the neural network\n",
    "simple_rnn_model = simple_model(\n",
    "    tmp_x.shape,\n",
    "    max_french_sequence_length,\n",
    "    english_vocab_size,\n",
    "    french_vocab_size)\n",
    "simple_rnn_model.fit(tmp_x, preproc_french_sentences, batch_size=1024, epochs=15, validation_split=0.2)"
   ]
  },
  {
   "cell_type": "markdown",
   "metadata": {},
   "source": [
    "**Rewriting `simple_function` with LSTM as opposed to GRU using `Sequential` API**"
   ]
  },
  {
   "cell_type": "code",
   "execution_count": 31,
   "metadata": {},
   "outputs": [
    {
     "name": "stdout",
     "output_type": "stream",
     "text": [
      "Train on 110288 samples, validate on 27573 samples\n",
      "Epoch 1/15\n",
      "110288/110288 [==============================] - 9s 80us/step - loss: 2.9955 - acc: 0.4375 - val_loss: nan - val_acc: 0.4866\n",
      "Epoch 2/15\n",
      "110288/110288 [==============================] - 8s 74us/step - loss: 2.0699 - acc: 0.5275 - val_loss: nan - val_acc: 0.5639\n",
      "Epoch 3/15\n",
      "110288/110288 [==============================] - 8s 74us/step - loss: 1.7161 - acc: 0.5793 - val_loss: nan - val_acc: 0.5913\n",
      "Epoch 4/15\n",
      "110288/110288 [==============================] - 8s 74us/step - loss: 1.5685 - acc: 0.5970 - val_loss: nan - val_acc: 0.6010\n",
      "Epoch 5/15\n",
      "110288/110288 [==============================] - 8s 74us/step - loss: 1.4783 - acc: 0.6071 - val_loss: nan - val_acc: 0.6139\n",
      "Epoch 6/15\n",
      "110288/110288 [==============================] - 8s 74us/step - loss: 1.4119 - acc: 0.6215 - val_loss: nan - val_acc: 0.6268\n",
      "Epoch 7/15\n",
      "110288/110288 [==============================] - 8s 74us/step - loss: 1.3567 - acc: 0.6313 - val_loss: nan - val_acc: 0.6317\n",
      "Epoch 8/15\n",
      "110288/110288 [==============================] - 8s 74us/step - loss: 1.3114 - acc: 0.6365 - val_loss: nan - val_acc: 0.6390\n",
      "Epoch 9/15\n",
      "110288/110288 [==============================] - 8s 75us/step - loss: 1.2734 - acc: 0.6409 - val_loss: nan - val_acc: 0.6410\n",
      "Epoch 10/15\n",
      "110288/110288 [==============================] - 8s 75us/step - loss: 1.2417 - acc: 0.6447 - val_loss: nan - val_acc: 0.6450\n",
      "Epoch 11/15\n",
      "110288/110288 [==============================] - 8s 74us/step - loss: 1.2153 - acc: 0.6475 - val_loss: nan - val_acc: 0.6483\n",
      "Epoch 12/15\n",
      "110288/110288 [==============================] - 8s 74us/step - loss: 1.1913 - acc: 0.6515 - val_loss: nan - val_acc: 0.6522\n",
      "Epoch 13/15\n",
      "110288/110288 [==============================] - 8s 75us/step - loss: 1.1707 - acc: 0.6549 - val_loss: nan - val_acc: 0.6582\n",
      "Epoch 14/15\n",
      "110288/110288 [==============================] - 8s 74us/step - loss: 1.1512 - acc: 0.6578 - val_loss: nan - val_acc: 0.6584\n",
      "Epoch 15/15\n",
      "110288/110288 [==============================] - 8s 75us/step - loss: 1.1350 - acc: 0.6598 - val_loss: nan - val_acc: 0.6615\n"
     ]
    },
    {
     "data": {
      "text/plain": [
       "<keras.callbacks.History at 0x7f3f80abbf60>"
      ]
     },
     "execution_count": 31,
     "metadata": {},
     "output_type": "execute_result"
    }
   ],
   "source": [
    "from keras.models import Sequential\n",
    "from keras.layers import LSTM\n",
    "\n",
    "def simple_model(input_shape, output_sequence_length, english_vocab_size, french_vocab_size):\n",
    "    \"\"\"\n",
    "    Build and train a basic RNN on x and y\n",
    "    :param input_shape: Tuple of input shape\n",
    "    :param output_sequence_length: Length of output sequence\n",
    "    :param english_vocab_size: Number of unique English words in the dataset\n",
    "    :param french_vocab_size: Number of unique French words in the dataset\n",
    "    :return: Keras model built, but not trained\n",
    "    \"\"\"\n",
    "    # TODO: Build the layers\n",
    "    learning_rate = 1e-3\n",
    "    \n",
    "    model = Sequential()\n",
    "    model.add(LSTM(128, return_sequences=True, activation='tanh', input_shape=input_shape[1:]))\n",
    "    model.add(TimeDistributed(Dense(french_vocab_size, activation='softmax')))\n",
    "    \n",
    "    model.compile(loss=sparse_categorical_crossentropy,\n",
    "                  optimizer=Adam(learning_rate),\n",
    "                  metrics=['accuracy'])\n",
    "    return model\n",
    "tests.test_simple_model(simple_model)\n",
    "\n",
    "# Reshaping the input to work with a basic RNN\n",
    "tmp_x = pad(preproc_english_sentences, max_french_sequence_length)\n",
    "tmp_x = tmp_x.reshape((-1, preproc_french_sentences.shape[-2], 1))\n",
    "\n",
    "# Train the neural network\n",
    "simple_rnn_model = simple_model(\n",
    "    tmp_x.shape,\n",
    "    max_french_sequence_length,\n",
    "    english_vocab_size,\n",
    "    french_vocab_size)\n",
    "simple_rnn_model.fit(tmp_x, preproc_french_sentences, batch_size=1024, epochs=15, validation_split=0.2)"
   ]
  },
  {
   "cell_type": "code",
   "execution_count": 32,
   "metadata": {},
   "outputs": [
    {
     "name": "stdout",
     "output_type": "stream",
     "text": [
      "new jersey is sometimes quiet during autumn , and it is snowy in april .\n",
      "new jersey est parfois calme en mois et il il il en en <PAD> <PAD> <PAD> <PAD> <PAD> <PAD> <PAD> <PAD>\n"
     ]
    }
   ],
   "source": [
    "# Print prediction(s)\n",
    "print(english_sentences[:1][0])\n",
    "print(logits_to_text(simple_rnn_model.predict(tmp_x[:1])[0], french_tokenizer))"
   ]
  },
  {
   "cell_type": "markdown",
   "metadata": {},
   "source": [
    "Google Translate:\n",
    "> \"new jersey is sometimes calm in months and there it in\""
   ]
  },
  {
   "cell_type": "markdown",
   "metadata": {},
   "source": [
    "### Model 2: Embedding (IMPLEMENTATION)\n",
    "![RNN](images/embedding.png)\n",
    "You've turned the words into ids, but there's a better representation of a word.  This is called word embeddings.  An embedding is a vector representation of the word that is close to similar words in n-dimensional space, where the n represents the size of the embedding vectors.\n",
    "\n",
    "In this model, you'll create a RNN model using embedding."
   ]
  },
  {
   "cell_type": "code",
   "execution_count": 59,
   "metadata": {},
   "outputs": [
    {
     "name": "stdout",
     "output_type": "stream",
     "text": [
      "input_shape: (137861, 21, 1)\n",
      "output_sequence_length 15\n",
      "english_vocab_size 199\n",
      "french_vocab_size 344\n"
     ]
    },
    {
     "data": {
      "text/plain": [
       "(137861, 21)"
      ]
     },
     "execution_count": 59,
     "metadata": {},
     "output_type": "execute_result"
    }
   ],
   "source": [
    "print('input_shape:',tmp_x.shape[:])\n",
    "print('output_sequence_length', max_english_sequence_length)\n",
    "print('english_vocab_size', english_vocab_size)\n",
    "print('french_vocab_size', french_vocab_size)\n",
    "np.squeeze(tmp_x, axis=-1).shape"
   ]
  },
  {
   "cell_type": "markdown",
   "metadata": {},
   "source": [
    "* Accuracy is at 83% with 10 EPOCHS and 64 units\n",
    "* Increase to 128 units and 15 EPOCHS to see if this makes any difference \n",
    "    * Increased vaildation accuracy to 90%"
   ]
  },
  {
   "cell_type": "code",
   "execution_count": 14,
   "metadata": {
    "scrolled": false
   },
   "outputs": [
    {
     "name": "stdout",
     "output_type": "stream",
     "text": [
      "Train on 110288 samples, validate on 27573 samples\n",
      "Epoch 1/15\n",
      "110288/110288 [==============================] - 10s 87us/step - loss: 3.3988 - acc: 0.4126 - val_loss: nan - val_acc: 0.4664\n",
      "Epoch 2/15\n",
      "110288/110288 [==============================] - 9s 84us/step - loss: 2.1346 - acc: 0.5374 - val_loss: nan - val_acc: 0.6230\n",
      "Epoch 3/15\n",
      "110288/110288 [==============================] - 9s 84us/step - loss: 1.3311 - acc: 0.6836 - val_loss: nan - val_acc: 0.7427\n",
      "Epoch 4/15\n",
      "110288/110288 [==============================] - 9s 84us/step - loss: 0.9622 - acc: 0.7667 - val_loss: nan - val_acc: 0.7883\n",
      "Epoch 5/15\n",
      "110288/110288 [==============================] - 9s 84us/step - loss: 0.7503 - acc: 0.8034 - val_loss: nan - val_acc: 0.8185\n",
      "Epoch 6/15\n",
      "110288/110288 [==============================] - 9s 84us/step - loss: 0.6208 - acc: 0.8279 - val_loss: nan - val_acc: 0.8373\n",
      "Epoch 7/15\n",
      "110288/110288 [==============================] - 9s 84us/step - loss: 0.5350 - acc: 0.8457 - val_loss: nan - val_acc: 0.8549\n",
      "Epoch 8/15\n",
      "110288/110288 [==============================] - 9s 84us/step - loss: 0.4738 - acc: 0.8615 - val_loss: nan - val_acc: 0.8701\n",
      "Epoch 9/15\n",
      "110288/110288 [==============================] - 9s 84us/step - loss: 0.4248 - acc: 0.8749 - val_loss: nan - val_acc: 0.8785\n",
      "Epoch 10/15\n",
      "110288/110288 [==============================] - 9s 84us/step - loss: 0.3910 - acc: 0.8831 - val_loss: nan - val_acc: 0.8881\n",
      "Epoch 11/15\n",
      "110288/110288 [==============================] - 9s 84us/step - loss: 0.3609 - acc: 0.8908 - val_loss: nan - val_acc: 0.8942\n",
      "Epoch 12/15\n",
      "110288/110288 [==============================] - 9s 84us/step - loss: 0.3392 - acc: 0.8966 - val_loss: nan - val_acc: 0.8985\n",
      "Epoch 13/15\n",
      "110288/110288 [==============================] - 9s 84us/step - loss: 0.3200 - acc: 0.9019 - val_loss: nan - val_acc: 0.9040\n",
      "Epoch 14/15\n",
      "110288/110288 [==============================] - 9s 84us/step - loss: 0.3062 - acc: 0.9056 - val_loss: nan - val_acc: 0.9042\n",
      "Epoch 15/15\n",
      "110288/110288 [==============================] - 9s 84us/step - loss: 0.2932 - acc: 0.9094 - val_loss: nan - val_acc: 0.9095\n",
      "new jersey est parfois calme en l' et il est neigeux en en <PAD> <PAD> <PAD> <PAD> <PAD> <PAD> <PAD> <PAD>\n"
     ]
    }
   ],
   "source": [
    "def embed_model(input_shape, output_sequence_length, english_vocab_size, french_vocab_size):\n",
    "    \"\"\"\n",
    "    Build and train a RNN model using word embedding on x and y\n",
    "    :param input_shape: Tuple of input shape\n",
    "    :param output_sequence_length: Length of output sequence\n",
    "    :param english_vocab_size: Number of unique English words in the dataset\n",
    "    :param french_vocab_size: Number of unique French words in the dataset\n",
    "    :return: Keras model built, but not trained\n",
    "    \"\"\"\n",
    "    # TODO: Implement\n",
    "    learning_rate = 1e-3\n",
    "    input_seq = Input(input_shape[1:])\n",
    "    \n",
    "    embedding = Embedding(input_dim=french_vocab_size, output_dim=128)(input_seq)\n",
    "    \n",
    "    rnn = GRU(128, return_sequences=True)(embedding)\n",
    "    \n",
    "    logits = TimeDistributed(Dense(french_vocab_size))(rnn)\n",
    "    \n",
    "    model = Model(input_seq, Activation('softmax')(logits))\n",
    "    model.compile(loss=sparse_categorical_crossentropy,\n",
    "                  optimizer=Adam(learning_rate),\n",
    "                  metrics=['accuracy'])\n",
    "    return model\n",
    "tests.test_embed_model(embed_model)\n",
    "\n",
    "# TODO: Reshape the input\n",
    "tmp_x = pad(preproc_english_sentences, max_french_sequence_length)\n",
    "tmp_x = tmp_x.reshape((-1, preproc_french_sentences.shape[-2]))\n",
    "\n",
    "# TODO: Train the neural network\n",
    "embed_rnn_model = embed_model(\n",
    "    tmp_x.shape,\n",
    "    max_french_sequence_length,\n",
    "    english_vocab_size,\n",
    "    french_vocab_size)\n",
    "embed_rnn_model.fit(tmp_x, preproc_french_sentences, batch_size=1024, epochs=15, validation_split=0.2)\n",
    "\n",
    "# TODO: Print prediction(s)\n",
    "print(logits_to_text(embed_rnn_model.predict(tmp_x[:1])[0], french_tokenizer))\n"
   ]
  },
  {
   "cell_type": "markdown",
   "metadata": {},
   "source": [
    "Google Translate\n",
    "> \"new jersey is sometimes calm in progress and it falls in April April\""
   ]
  },
  {
   "cell_type": "markdown",
   "metadata": {},
   "source": [
    "### Model 3: Bidirectional RNNs (IMPLEMENTATION)\n",
    "![RNN](images/bidirectional.png)\n",
    "One restriction of a RNN is that it can't see the future input, only the past.  This is where bidirectional recurrent neural networks come in.  They are able to see the future data."
   ]
  },
  {
   "cell_type": "code",
   "execution_count": 15,
   "metadata": {},
   "outputs": [
    {
     "name": "stdout",
     "output_type": "stream",
     "text": [
      "Train on 110288 samples, validate on 27573 samples\n",
      "Epoch 1/20\n",
      "110288/110288 [==============================] - 13s 116us/step - loss: 2.6241 - acc: 0.5054 - val_loss: nan - val_acc: 0.5724\n",
      "Epoch 2/20\n",
      "110288/110288 [==============================] - 12s 110us/step - loss: 1.5708 - acc: 0.5983 - val_loss: nan - val_acc: 0.6174\n",
      "Epoch 3/20\n",
      "110288/110288 [==============================] - 12s 110us/step - loss: 1.3753 - acc: 0.6258 - val_loss: nan - val_acc: 0.6362\n",
      "Epoch 4/20\n",
      "110288/110288 [==============================] - 12s 110us/step - loss: 1.2721 - acc: 0.6430 - val_loss: nan - val_acc: 0.6476\n",
      "Epoch 5/20\n",
      "110288/110288 [==============================] - 12s 110us/step - loss: 1.2012 - acc: 0.6566 - val_loss: nan - val_acc: 0.6630\n",
      "Epoch 6/20\n",
      "110288/110288 [==============================] - 12s 110us/step - loss: 1.1452 - acc: 0.6668 - val_loss: nan - val_acc: 0.6731\n",
      "Epoch 7/20\n",
      "110288/110288 [==============================] - 12s 110us/step - loss: 1.0974 - acc: 0.6751 - val_loss: nan - val_acc: 0.6781\n",
      "Epoch 8/20\n",
      "110288/110288 [==============================] - 12s 110us/step - loss: 1.0583 - acc: 0.6826 - val_loss: nan - val_acc: 0.6864\n",
      "Epoch 9/20\n",
      "110288/110288 [==============================] - 12s 110us/step - loss: 1.0234 - acc: 0.6887 - val_loss: nan - val_acc: 0.6911\n",
      "Epoch 10/20\n",
      "110288/110288 [==============================] - 12s 110us/step - loss: 0.9939 - acc: 0.6935 - val_loss: nan - val_acc: 0.6958\n",
      "Epoch 11/20\n",
      "110288/110288 [==============================] - 12s 110us/step - loss: 0.9689 - acc: 0.6971 - val_loss: nan - val_acc: 0.7006\n",
      "Epoch 12/20\n",
      "110288/110288 [==============================] - 12s 110us/step - loss: 0.9463 - acc: 0.7007 - val_loss: nan - val_acc: 0.7001\n",
      "Epoch 13/20\n",
      "110288/110288 [==============================] - 12s 110us/step - loss: 0.9265 - acc: 0.7034 - val_loss: nan - val_acc: 0.7071\n",
      "Epoch 14/20\n",
      "110288/110288 [==============================] - 12s 110us/step - loss: 0.9069 - acc: 0.7066 - val_loss: nan - val_acc: 0.7090\n",
      "Epoch 15/20\n",
      "110288/110288 [==============================] - 12s 110us/step - loss: 0.8897 - acc: 0.7091 - val_loss: nan - val_acc: 0.7080\n",
      "Epoch 16/20\n",
      "110288/110288 [==============================] - 12s 110us/step - loss: 0.8721 - acc: 0.7122 - val_loss: nan - val_acc: 0.7107\n",
      "Epoch 17/20\n",
      "110288/110288 [==============================] - 12s 110us/step - loss: 0.8562 - acc: 0.7149 - val_loss: nan - val_acc: 0.7156\n",
      "Epoch 18/20\n",
      "110288/110288 [==============================] - 12s 110us/step - loss: 0.8401 - acc: 0.7185 - val_loss: nan - val_acc: 0.7192\n",
      "Epoch 19/20\n",
      "110288/110288 [==============================] - 12s 110us/step - loss: 0.8265 - acc: 0.7214 - val_loss: nan - val_acc: 0.7230\n",
      "Epoch 20/20\n",
      "110288/110288 [==============================] - 12s 110us/step - loss: 0.8124 - acc: 0.7247 - val_loss: nan - val_acc: 0.7274\n",
      "new jersey est parfois calme en mois de mai et il est en en <PAD> <PAD> <PAD> <PAD> <PAD> <PAD> <PAD>\n"
     ]
    }
   ],
   "source": [
    "def bd_model(input_shape, output_sequence_length, english_vocab_size, french_vocab_size):\n",
    "    \"\"\"\n",
    "    Build and train a bidirectional RNN model on x and y\n",
    "    :param input_shape: Tuple of input shape\n",
    "    :param output_sequence_length: Length of output sequence\n",
    "    :param english_vocab_size: Number of unique English words in the dataset\n",
    "    :param french_vocab_size: Number of unique French words in the dataset\n",
    "    :return: Keras model built, but not trained\n",
    "    \"\"\"\n",
    "    # TODO: Implement\n",
    "    learning_rate = 1e-3\n",
    "    input_seq = Input(input_shape[1:])\n",
    "    \n",
    "    #Note: increased size from 64 to 128 to see if accuracy improved from 60%\n",
    "    bd = Bidirectional(GRU(128, return_sequences=True))(input_seq)\n",
    "    \n",
    "    logits = TimeDistributed(Dense(french_vocab_size))(bd)\n",
    "    \n",
    "    model = Model(input_seq, Activation('softmax')(logits))\n",
    "    model.compile(loss=sparse_categorical_crossentropy,\n",
    "                  optimizer=Adam(learning_rate),\n",
    "                  metrics=['accuracy'])\n",
    "    return model\n",
    "tests.test_bd_model(bd_model)\n",
    "\n",
    "\n",
    "# TODO: Train and Print prediction(s)\n",
    "# TODO: Reshape the input\n",
    "tmp_x = pad(preproc_english_sentences, max_french_sequence_length)\n",
    "tmp_x = tmp_x.reshape((-1, preproc_french_sentences.shape[-2], 1))\n",
    "\n",
    "# TODO: Train the neural network\n",
    "bd_rnn_model = bd_model(\n",
    "    tmp_x.shape,\n",
    "    max_french_sequence_length,\n",
    "    english_vocab_size,\n",
    "    french_vocab_size)\n",
    "\n",
    "# increasing to 20 epochs since at 10 epochs accuracy was at 60%\n",
    "bd_rnn_model.fit(tmp_x, preproc_french_sentences, batch_size=1024, epochs=20, validation_split=0.2)\n",
    "\n",
    "# TODO: Print prediction(s)\n",
    "print(logits_to_text(bd_rnn_model.predict(tmp_x[:1])[0], french_tokenizer))"
   ]
  },
  {
   "cell_type": "code",
   "execution_count": 76,
   "metadata": {},
   "outputs": [
    {
     "name": "stdout",
     "output_type": "stream",
     "text": [
      "Simple rnn:\n",
      " new jersey est parfois parfois en en et il est il en en <PAD> <PAD> <PAD> <PAD> <PAD> <PAD> <PAD> <PAD>\n",
      "Bidirectional model:\n",
      " new jersey est parfois calme en mois et il il est est en en <PAD> <PAD> <PAD> <PAD> <PAD> <PAD> <PAD>\n"
     ]
    }
   ],
   "source": [
    "print('Simple rnn:\\n', logits_to_text(simple_rnn_model.predict(tmp_x[:1])[0], french_tokenizer))\n",
    "print('Bidirectional model:\\n',logits_to_text(bd_rnn_model.predict(tmp_x[:1])[0], french_tokenizer))"
   ]
  },
  {
   "cell_type": "markdown",
   "metadata": {},
   "source": [
    "### Model 4: Encoder-Decoder (OPTIONAL)\n",
    "Time to look at encoder-decoder models.  This model is made up of an encoder and decoder. The encoder creates a matrix representation of the sentence.  The decoder takes this matrix as input and predicts the translation as output.\n",
    "\n",
    "Create an encoder-decoder model in the cell below."
   ]
  },
  {
   "cell_type": "code",
   "execution_count": 84,
   "metadata": {},
   "outputs": [
    {
     "name": "stdout",
     "output_type": "stream",
     "text": [
      "21\n",
      "15\n"
     ]
    }
   ],
   "source": [
    "print(preproc_french_sentences.shape[-2])\n",
    "print(preproc_english_sentences.shape[1])"
   ]
  },
  {
   "cell_type": "code",
   "execution_count": 26,
   "metadata": {
    "scrolled": false
   },
   "outputs": [
    {
     "name": "stdout",
     "output_type": "stream",
     "text": [
      "Train on 110288 samples, validate on 27573 samples\n",
      "Epoch 1/20\n",
      "110288/110288 [==============================] - 13s 115us/step - loss: 3.0155 - acc: 0.4378 - val_loss: nan - val_acc: 0.4917\n",
      "Epoch 2/20\n",
      "110288/110288 [==============================] - 12s 107us/step - loss: 2.2621 - acc: 0.5017 - val_loss: nan - val_acc: 0.5051\n",
      "Epoch 3/20\n",
      "110288/110288 [==============================] - 12s 107us/step - loss: 1.9846 - acc: 0.5170 - val_loss: nan - val_acc: 0.5287\n",
      "Epoch 4/20\n",
      "110288/110288 [==============================] - 12s 107us/step - loss: 1.8223 - acc: 0.5452 - val_loss: nan - val_acc: 0.5561\n",
      "Epoch 5/20\n",
      "110288/110288 [==============================] - 12s 107us/step - loss: 1.7022 - acc: 0.5636 - val_loss: nan - val_acc: 0.5668\n",
      "Epoch 6/20\n",
      "110288/110288 [==============================] - 12s 107us/step - loss: 1.6140 - acc: 0.5752 - val_loss: nan - val_acc: 0.5834\n",
      "Epoch 7/20\n",
      "110288/110288 [==============================] - 12s 107us/step - loss: 1.5413 - acc: 0.5871 - val_loss: nan - val_acc: 0.5973\n",
      "Epoch 8/20\n",
      "110288/110288 [==============================] - 12s 107us/step - loss: 1.4777 - acc: 0.5997 - val_loss: nan - val_acc: 0.6041\n",
      "Epoch 9/20\n",
      "110288/110288 [==============================] - 12s 107us/step - loss: 1.4286 - acc: 0.6067 - val_loss: nan - val_acc: 0.6075\n",
      "Epoch 10/20\n",
      "110288/110288 [==============================] - 12s 107us/step - loss: 1.3860 - acc: 0.6133 - val_loss: nan - val_acc: 0.6196\n",
      "Epoch 11/20\n",
      "110288/110288 [==============================] - 12s 107us/step - loss: 1.3459 - acc: 0.6201 - val_loss: nan - val_acc: 0.6233\n",
      "Epoch 12/20\n",
      "110288/110288 [==============================] - 12s 106us/step - loss: 1.3143 - acc: 0.6269 - val_loss: nan - val_acc: 0.6306\n",
      "Epoch 13/20\n",
      "110288/110288 [==============================] - 12s 107us/step - loss: 1.2911 - acc: 0.6331 - val_loss: nan - val_acc: 0.6352\n",
      "Epoch 14/20\n",
      "110288/110288 [==============================] - 12s 107us/step - loss: 1.2656 - acc: 0.6388 - val_loss: nan - val_acc: 0.6412\n",
      "Epoch 15/20\n",
      "110288/110288 [==============================] - 12s 107us/step - loss: 1.2414 - acc: 0.6420 - val_loss: nan - val_acc: 0.6434\n",
      "Epoch 16/20\n",
      "110288/110288 [==============================] - 12s 107us/step - loss: 1.2201 - acc: 0.6441 - val_loss: nan - val_acc: 0.6464\n",
      "Epoch 17/20\n",
      "110288/110288 [==============================] - 12s 107us/step - loss: 1.2010 - acc: 0.6462 - val_loss: nan - val_acc: 0.6471\n",
      "Epoch 18/20\n",
      "110288/110288 [==============================] - 12s 107us/step - loss: 1.1815 - acc: 0.6507 - val_loss: nan - val_acc: 0.6562\n",
      "Epoch 19/20\n",
      "110288/110288 [==============================] - 12s 108us/step - loss: 1.1505 - acc: 0.6604 - val_loss: nan - val_acc: 0.6633\n",
      "Epoch 20/20\n",
      "110288/110288 [==============================] - 12s 107us/step - loss: 1.1387 - acc: 0.6633 - val_loss: nan - val_acc: 0.6693\n",
      "new jersey est jamais agréable en mois et il est est en en <PAD> <PAD> <PAD> <PAD> <PAD> <PAD> <PAD> <PAD>\n"
     ]
    }
   ],
   "source": [
    "def encdec_model(input_shape, output_sequence_length, english_vocab_size, french_vocab_size):\n",
    "    \"\"\"\n",
    "    Build and train an encoder-decoder model on x and y\n",
    "    :param input_shape: Tuple of input shape\n",
    "    :param output_sequence_length: Length of output sequence\n",
    "    :param english_vocab_size: Number of unique English words in the dataset\n",
    "    :param french_vocab_size: Number of unique French words in the dataset\n",
    "    :return: Keras model built, but not trained\n",
    "    \"\"\"\n",
    "    # OPTIONAL: Implement\n",
    "    learning_rate = 1e-3\n",
    "    input_seq = Input(input_shape[1:])\n",
    "    \n",
    "    rnn1 = GRU(128, return_sequences=False)(input_seq)\n",
    "    enc = RepeatVector(output_sequence_length)(rnn1)\n",
    "    rnn2 = GRU(128, return_sequences=True)(enc)\n",
    "    \n",
    "    logits = TimeDistributed(Dense(french_vocab_size))(rnn2)\n",
    "    \n",
    "    model = Model(input_seq, Activation('softmax')(logits))\n",
    "    model.compile(loss=sparse_categorical_crossentropy,\n",
    "                  optimizer=Adam(learning_rate),\n",
    "                  metrics=['accuracy'])\n",
    "    return model\n",
    "tests.test_encdec_model(encdec_model)\n",
    "\n",
    "\n",
    "# OPTIONAL: Train and Print prediction(s)\n",
    "# TODO: Reshape the input\n",
    "tmp_x = pad(preproc_english_sentences)\n",
    "tmp_x = tmp_x.reshape((-1, preproc_english_sentences.shape[1], 1))\n",
    "\n",
    "# TODO: Train the neural network\n",
    "enc_rnn_model = encdec_model(\n",
    "    tmp_x.shape,\n",
    "    max_french_sequence_length,\n",
    "    english_vocab_size,\n",
    "    french_vocab_size)\n",
    "\n",
    "# increasing to 20 epochs since at 10 epochs accuracy was at 60%\n",
    "enc_rnn_model.fit(tmp_x, preproc_french_sentences, batch_size=1024, epochs=20, validation_split=0.2)\n",
    "\n",
    "# TODO: Print prediction(s)\n",
    "print(logits_to_text(enc_rnn_model.predict(tmp_x[:1])[0], french_tokenizer))"
   ]
  },
  {
   "cell_type": "markdown",
   "metadata": {},
   "source": [
    "Google Translate:\n",
    "> 'new jersey is sometimes hot in months and it is in in'"
   ]
  },
  {
   "cell_type": "markdown",
   "metadata": {},
   "source": [
    "## Comparing all 4 models"
   ]
  },
  {
   "cell_type": "code",
   "execution_count": 31,
   "metadata": {},
   "outputs": [
    {
     "name": "stdout",
     "output_type": "stream",
     "text": [
      "Simple model:  0.671561509463\n",
      "Bidirectional model:  0.727359760935\n",
      "Embedding model: 0.909548211726\n",
      "Encoder Decoder model: 0.669259394756\n"
     ]
    }
   ],
   "source": [
    "print('Simple model: ', max(simple_rnn_model.history.history['val_acc']))\n",
    "print('Bidirectional model: ', max(bd_rnn_model.history.history['val_acc']))\n",
    "print('Embedding model:', max(embed_rnn_model.history.history['val_acc']))\n",
    "print('Encoder Decoder model:', max(enc_rnn_model.history.history['val_acc']))"
   ]
  },
  {
   "cell_type": "code",
   "execution_count": 36,
   "metadata": {},
   "outputs": [
    {
     "data": {
      "text/plain": [
       "dict_keys(['val_loss', 'val_acc', 'loss', 'acc'])"
      ]
     },
     "execution_count": 36,
     "metadata": {},
     "output_type": "execute_result"
    }
   ],
   "source": [
    "simple_rnn_model.history.history.keys()"
   ]
  },
  {
   "cell_type": "code",
   "execution_count": 44,
   "metadata": {},
   "outputs": [],
   "source": [
    "# simple_rnn_model.history.history"
   ]
  },
  {
   "cell_type": "code",
   "execution_count": 57,
   "metadata": {},
   "outputs": [
    {
     "data": {
      "image/png": "[encoded data removed]",
      "text/plain": [
       "<matplotlib.figure.Figure at 0x7f9c64fa9f60>"
      ]
     },
     "metadata": {
      "needs_background": "light"
     },
     "output_type": "display_data"
    },
    {
     "data": {
      "image/png": "[encoded data removed]",
      "text/plain": [
       "<matplotlib.figure.Figure at 0x7f9c75e8c4e0>"
      ]
     },
     "metadata": {
      "needs_background": "light"
     },
     "output_type": "display_data"
    },
    {
     "data": {
      "image/png": "[encoded data removed]",
      "text/plain": [
       "<matplotlib.figure.Figure at 0x7f9c68c01c50>"
      ]
     },
     "metadata": {
      "needs_background": "light"
     },
     "output_type": "display_data"
    },
    {
     "data": {
      "image/png": "[encoded data removed]",
      "text/plain": [
       "<matplotlib.figure.Figure at 0x7f9c65227048>"
      ]
     },
     "metadata": {
      "needs_background": "light"
     },
     "output_type": "display_data"
    }
   ],
   "source": [
    "import matplotlib.pyplot as plt\n",
    "\n",
    "models = {'Simple Model': simple_rnn_model,\n",
    "          'Embedding Model': embed_rnn_model,\n",
    "          'Bidirectional Model': bd_rnn_model,\n",
    "          'Encoder Decoder Model': enc_rnn_model}\n",
    "for name, model in models.items():\n",
    "    plt.plot(model.history.history['loss'], label='loss (training data)')\n",
    "    plt.plot(model.history.history['val_loss'], label='loss (validation data)')\n",
    "    plt.title(f'{name} Model Loss')\n",
    "    plt.ylabel('MAE value')\n",
    "    plt.xlabel('No. epoch')\n",
    "    plt.legend(loc=\"upper left\")\n",
    "    plt.show()"
   ]
  },
  {
   "cell_type": "code",
   "execution_count": 62,
   "metadata": {},
   "outputs": [
    {
     "data": {
      "image/png": "[encoded data removed]",
      "text/plain": [
       "<matplotlib.figure.Figure at 0x7f9c625bb438>"
      ]
     },
     "metadata": {
      "needs_background": "light"
     },
     "output_type": "display_data"
    },
    {
     "data": {
      "image/png": "[encoded data removed]",
      "text/plain": [
       "<matplotlib.figure.Figure at 0x7f9c625ce978>"
      ]
     },
     "metadata": {
      "needs_background": "light"
     },
     "output_type": "display_data"
    },
    {
     "data": {
      "image/png": "[encoded data removed]",
      "text/plain": [
       "<matplotlib.figure.Figure at 0x7f9c5f6da550>"
      ]
     },
     "metadata": {
      "needs_background": "light"
     },
     "output_type": "display_data"
    },
    {
     "data": {
      "image/png": "[encoded data removed]",
      "text/plain": [
       "<matplotlib.figure.Figure at 0x7f9c62409ac8>"
      ]
     },
     "metadata": {
      "needs_background": "light"
     },
     "output_type": "display_data"
    }
   ],
   "source": [
    "models = {'Simple Model': simple_rnn_model,\n",
    "          'Embedding Model': embed_rnn_model,\n",
    "          'Bidirectional Model': bd_rnn_model,\n",
    "          'Encoder Decoder Model': enc_rnn_model}\n",
    "for name, model in models.items():\n",
    "    plt.plot(model.history.history['acc'], label='Accuracy (training data)')\n",
    "    plt.plot(model.history.history['val_acc'], label='Accuracy (validation data)')\n",
    "    plt.title(f'{name} Model Accuracy')\n",
    "    plt.ylabel('Acc Score')\n",
    "    plt.xlabel('No. epoch')\n",
    "    plt.legend(loc=\"upper left\")\n",
    "    plt.show()"
   ]
  },
  {
   "cell_type": "markdown",
   "metadata": {},
   "source": [
    "### Model 5: Custom (IMPLEMENTATION)\n",
    "Use everything you learned from the previous models to create a model that incorporates embedding and a bidirectional rnn into one model."
   ]
  },
  {
   "cell_type": "code",
   "execution_count": 94,
   "metadata": {},
   "outputs": [
    {
     "name": "stdout",
     "output_type": "stream",
     "text": [
      "(137861, 15)\n"
     ]
    }
   ],
   "source": [
    "tmp_x = pad(preproc_english_sentences)\n",
    "tmp_x = tmp_x.reshape((-1, preproc_english_sentences.shape[1], 1))\n",
    "tmp_x = np.squeeze(tmp_x, axis=-1)\n",
    "print(tmp_x.shape)"
   ]
  },
  {
   "cell_type": "code",
   "execution_count": 35,
   "metadata": {},
   "outputs": [
    {
     "data": {
      "text/plain": [
       "(137861, 21, 1)"
      ]
     },
     "execution_count": 35,
     "metadata": {},
     "output_type": "execute_result"
    }
   ],
   "source": [
    "tmp_x = pad(preproc_english_sentences, max_french_sequence_length) \n",
    "tmp_x = tmp_x.reshape((-1, preproc_french_sentences.shape[-2], 1))\n",
    "tmp_x.shape"
   ]
  },
  {
   "cell_type": "code",
   "execution_count": 95,
   "metadata": {},
   "outputs": [
    {
     "name": "stdout",
     "output_type": "stream",
     "text": [
      "input_shape: (137861, 15)\n",
      "output_sequence_length 15\n",
      "english_vocab_size 199\n",
      "french_vocab_size 344\n"
     ]
    }
   ],
   "source": [
    "print('input_shape:',tmp_x.shape[:])\n",
    "print('output_sequence_length', max_english_sequence_length)\n",
    "print('english_vocab_size', english_vocab_size)\n",
    "print('french_vocab_size', french_vocab_size)"
   ]
  },
  {
   "cell_type": "code",
   "execution_count": 79,
   "metadata": {
    "scrolled": false
   },
   "outputs": [
    {
     "name": "stdout",
     "output_type": "stream",
     "text": [
      "Final Model Loaded\n",
      "Train on 110288 samples, validate on 27573 samples\n",
      "Epoch 1/20\n",
      "110288/110288 [==============================] - 43s 392us/step - loss: 2.7443 - acc: 0.4584 - val_loss: nan - val_acc: 0.4990\n",
      "Epoch 2/20\n",
      "110288/110288 [==============================] - 39s 350us/step - loss: 1.7663 - acc: 0.5523 - val_loss: nan - val_acc: 0.6112\n",
      "Epoch 3/20\n",
      "110288/110288 [==============================] - 39s 350us/step - loss: 1.3714 - acc: 0.6304 - val_loss: nan - val_acc: 0.6521\n",
      "Epoch 4/20\n",
      "110288/110288 [==============================] - 39s 350us/step - loss: 1.1649 - acc: 0.6802 - val_loss: nan - val_acc: 0.7010\n",
      "Epoch 5/20\n",
      "110288/110288 [==============================] - 39s 349us/step - loss: 1.0038 - acc: 0.7106 - val_loss: nan - val_acc: 0.7244\n",
      "Epoch 6/20\n",
      "110288/110288 [==============================] - 39s 349us/step - loss: 0.8904 - acc: 0.7348 - val_loss: nan - val_acc: 0.7474\n",
      "Epoch 7/20\n",
      "110288/110288 [==============================] - 39s 349us/step - loss: 0.8116 - acc: 0.7549 - val_loss: nan - val_acc: 0.7619\n",
      "Epoch 8/20\n",
      "110288/110288 [==============================] - 39s 349us/step - loss: 0.7461 - acc: 0.7729 - val_loss: nan - val_acc: 0.7786\n",
      "Epoch 9/20\n",
      "110288/110288 [==============================] - 39s 349us/step - loss: 0.6839 - acc: 0.7930 - val_loss: nan - val_acc: 0.8022\n",
      "Epoch 10/20\n",
      "110288/110288 [==============================] - 39s 349us/step - loss: 0.6271 - acc: 0.8111 - val_loss: nan - val_acc: 0.8200\n",
      "Epoch 11/20\n",
      "110288/110288 [==============================] - 39s 349us/step - loss: 0.5738 - acc: 0.8285 - val_loss: nan - val_acc: 0.8388\n",
      "Epoch 12/20\n",
      "110288/110288 [==============================] - 39s 349us/step - loss: 0.5180 - acc: 0.8448 - val_loss: nan - val_acc: 0.8496\n",
      "Epoch 13/20\n",
      "110288/110288 [==============================] - 39s 349us/step - loss: 0.4720 - acc: 0.8578 - val_loss: nan - val_acc: 0.8617\n",
      "Epoch 14/20\n",
      "110288/110288 [==============================] - 39s 349us/step - loss: 0.4277 - acc: 0.8710 - val_loss: nan - val_acc: 0.8756\n",
      "Epoch 15/20\n",
      "110288/110288 [==============================] - 39s 349us/step - loss: 0.3881 - acc: 0.8828 - val_loss: nan - val_acc: 0.8876\n",
      "Epoch 16/20\n",
      "110288/110288 [==============================] - 39s 349us/step - loss: 0.3476 - acc: 0.8959 - val_loss: nan - val_acc: 0.9008\n",
      "Epoch 17/20\n",
      "110288/110288 [==============================] - 39s 349us/step - loss: 0.3116 - acc: 0.9072 - val_loss: nan - val_acc: 0.9062\n",
      "Epoch 18/20\n",
      "110288/110288 [==============================] - 39s 349us/step - loss: 0.2813 - acc: 0.9165 - val_loss: nan - val_acc: 0.9160\n",
      "Epoch 19/20\n",
      "110288/110288 [==============================] - 38s 349us/step - loss: 0.2526 - acc: 0.9255 - val_loss: nan - val_acc: 0.9296\n",
      "Epoch 20/20\n",
      "110288/110288 [==============================] - 39s 349us/step - loss: 0.2249 - acc: 0.9337 - val_loss: nan - val_acc: 0.9353\n",
      "new jersey est parfois calme au cours et il automne neigeux en avril <PAD> <PAD> <PAD> <PAD> <PAD> <PAD> <PAD> <PAD>\n"
     ]
    }
   ],
   "source": [
    "from keras.callbacks import EarlyStopping\n",
    "def model_final(input_shape, output_sequence_length, english_vocab_size, french_vocab_size):\n",
    "    \"\"\"\n",
    "    Build and train a model that incorporates embedding, encoder-decoder, and bidirectional RNN on x and y\n",
    "    :param input_shape: Tuple of input shape\n",
    "    :param output_sequence_length: Length of output sequence\n",
    "    :param english_vocab_size: Number of unique English words in the dataset\n",
    "    :param french_vocab_size: Number of unique French words in the dataset\n",
    "    :return: Keras model built, but not trained\n",
    "    \"\"\"\n",
    "    # TODO: Implement\n",
    "    # TODO: Implement\n",
    "    learning_rate = 1e-3\n",
    "    input_seq = Input(input_shape[1:])\n",
    "    \n",
    "\n",
    "    embed = Embedding(input_dim=english_vocab_size, output_dim=64)(input_seq)\n",
    "    bd1 = Bidirectional(GRU(256, return_sequences=False))(embed)\n",
    "    enc = RepeatVector(output_sequence_length)(bd1)\n",
    "    bd2 = Bidirectional(GRU(256, return_sequences=True))(enc)\n",
    "    \n",
    "    logits = TimeDistributed(Dense(french_vocab_size))(bd2)\n",
    "    \n",
    "    model = Model(input_seq, Activation('softmax')(logits))\n",
    "    model.compile(loss=sparse_categorical_crossentropy,\n",
    "                  optimizer=Adam(learning_rate),\n",
    "                  metrics=['accuracy'])\n",
    "    return model\n",
    "tests.test_model_final(model_final)\n",
    "\n",
    "\n",
    "print('Final Model Loaded')\n",
    "tmp_x = pad(preproc_english_sentences)\n",
    "tmp_x = tmp_x.reshape((-1, preproc_english_sentences.shape[1], 1))\n",
    "tmp_x = np.squeeze(tmp_x, axis=-1)\n",
    "\n",
    "#early stopping\n",
    "es = EarlyStopping(monitor='val_acc', mode='max', verbose=1)\n",
    "# TODO: Train the neural network\n",
    "final_rnn_model = model_final(\n",
    "    tmp_x.shape,\n",
    "    max_french_sequence_length,\n",
    "    english_vocab_size,\n",
    "    french_vocab_size)\n",
    "\n",
    "\n",
    "final_rnn_model.fit(tmp_x, preproc_french_sentences, batch_size=1024, epochs=20, validation_split=0.2, callbacks=[es])\n",
    "\n",
    "# TODO: Print prediction(s)\n",
    "print(logits_to_text(final_rnn_model.predict(tmp_x[:1])[0], french_tokenizer))"
   ]
  },
  {
   "cell_type": "code",
   "execution_count": 80,
   "metadata": {},
   "outputs": [
    {
     "name": "stdout",
     "output_type": "stream",
     "text": [
      "_________________________________________________________________\n",
      "Layer (type)                 Output Shape              Param #   \n",
      "=================================================================\n",
      "input_35 (InputLayer)        (None, 15)                0         \n",
      "_________________________________________________________________\n",
      "embedding_27 (Embedding)     (None, 15, 64)            12736     \n",
      "_________________________________________________________________\n",
      "bidirectional_50 (Bidirectio (None, 512)               493056    \n",
      "_________________________________________________________________\n",
      "repeat_vector_28 (RepeatVect (None, 21, 512)           0         \n",
      "_________________________________________________________________\n",
      "bidirectional_51 (Bidirectio (None, 21, 512)           1181184   \n",
      "_________________________________________________________________\n",
      "time_distributed_46 (TimeDis (None, 21, 344)           176472    \n",
      "_________________________________________________________________\n",
      "activation_32 (Activation)   (None, 21, 344)           0         \n",
      "=================================================================\n",
      "Total params: 1,863,448\n",
      "Trainable params: 1,863,448\n",
      "Non-trainable params: 0\n",
      "_________________________________________________________________\n"
     ]
    }
   ],
   "source": [
    "final_rnn_model.summary()"
   ]
  },
  {
   "cell_type": "code",
   "execution_count": 81,
   "metadata": {},
   "outputs": [
    {
     "data": {
      "image/png": "[encoded data removed]",
      "text/plain": [
       "<matplotlib.figure.Figure at 0x7f9c54093b70>"
      ]
     },
     "metadata": {
      "needs_background": "light"
     },
     "output_type": "display_data"
    }
   ],
   "source": [
    "plt.plot(final_rnn_model.history.history['acc'], label='Acc (training data)')\n",
    "plt.plot(final_rnn_model.history.history['val_acc'], label='Acc (validation data)')\n",
    "plt.title('Final Model Accuracy')\n",
    "plt.ylabel('Acc Score')\n",
    "plt.xlabel('No. epoch')\n",
    "plt.legend(loc=\"upper left\")\n",
    "plt.show()"
   ]
  },
  {
   "cell_type": "markdown",
   "metadata": {},
   "source": [
    "**Making another modification for `model_final` to increase accuracy**\n",
    "* Changing learning rate\n",
    "* Adding Dropout layer to avoid overfitting\n",
    "* Epochs 40 with early stopping \n",
    "* Units at 512\n",
    "* add another TimeDistributed layer"
   ]
  },
  {
   "cell_type": "code",
   "execution_count": 89,
   "metadata": {
    "scrolled": false
   },
   "outputs": [
    {
     "name": "stdout",
     "output_type": "stream",
     "text": [
      "Final Model Loaded\n",
      "Train on 110288 samples, validate on 27573 samples\n",
      "Epoch 1/40\n",
      "110288/110288 [==============================] - 146s 1ms/step - loss: 1.8626 - acc: 0.5547 - val_loss: nan - val_acc: 0.6794\n",
      "Epoch 2/40\n",
      "110288/110288 [==============================] - 140s 1ms/step - loss: 0.9146 - acc: 0.7288 - val_loss: nan - val_acc: 0.7879\n",
      "Epoch 3/40\n",
      "110288/110288 [==============================] - 140s 1ms/step - loss: 0.5338 - acc: 0.8327 - val_loss: nan - val_acc: 0.8847\n",
      "Epoch 4/40\n",
      "110288/110288 [==============================] - 140s 1ms/step - loss: 0.3282 - acc: 0.8962 - val_loss: nan - val_acc: 0.9221\n",
      "Epoch 5/40\n",
      "110288/110288 [==============================] - 140s 1ms/step - loss: 0.2459 - acc: 0.9225 - val_loss: nan - val_acc: 0.9387\n",
      "Epoch 6/40\n",
      "110288/110288 [==============================] - 140s 1ms/step - loss: 0.1916 - acc: 0.9402 - val_loss: nan - val_acc: 0.9490\n",
      "Epoch 7/40\n",
      "110288/110288 [==============================] - 140s 1ms/step - loss: 0.1615 - acc: 0.9500 - val_loss: nan - val_acc: 0.9542\n",
      "Epoch 8/40\n",
      "110288/110288 [==============================] - 140s 1ms/step - loss: 0.1393 - acc: 0.9571 - val_loss: nan - val_acc: 0.9600\n",
      "Epoch 9/40\n",
      "110288/110288 [==============================] - 139s 1ms/step - loss: 0.1227 - acc: 0.9627 - val_loss: nan - val_acc: 0.9665\n",
      "Epoch 10/40\n",
      "110288/110288 [==============================] - 138s 1ms/step - loss: 0.1106 - acc: 0.9668 - val_loss: nan - val_acc: 0.9691\n",
      "Epoch 11/40\n",
      "110288/110288 [==============================] - 140s 1ms/step - loss: 0.0957 - acc: 0.9712 - val_loss: nan - val_acc: 0.9712\n",
      "Epoch 12/40\n",
      "110288/110288 [==============================] - 140s 1ms/step - loss: 0.0875 - acc: 0.9738 - val_loss: nan - val_acc: 0.9727\n",
      "Epoch 13/40\n",
      "110288/110288 [==============================] - 140s 1ms/step - loss: 0.0816 - acc: 0.9757 - val_loss: nan - val_acc: 0.9737\n",
      "Epoch 14/40\n",
      "110288/110288 [==============================] - 140s 1ms/step - loss: 0.0745 - acc: 0.9780 - val_loss: nan - val_acc: 0.9744\n",
      "Epoch 15/40\n",
      "110288/110288 [==============================] - 140s 1ms/step - loss: 0.0700 - acc: 0.9795 - val_loss: nan - val_acc: 0.9776\n",
      "Epoch 16/40\n",
      "110288/110288 [==============================] - 140s 1ms/step - loss: 0.0625 - acc: 0.9820 - val_loss: nan - val_acc: 0.9777\n",
      "Epoch 17/40\n",
      "110288/110288 [==============================] - 140s 1ms/step - loss: 0.0645 - acc: 0.9817 - val_loss: nan - val_acc: 0.9786\n",
      "Epoch 18/40\n",
      "110288/110288 [==============================] - 140s 1ms/step - loss: 0.0545 - acc: 0.9845 - val_loss: nan - val_acc: 0.9768\n",
      "Epoch 00018: early stopping\n",
      "new jersey est parfois calme pendant l' automne et il est neigeux en avril <PAD> <PAD> <PAD> <PAD> <PAD> <PAD> <PAD>\n"
     ]
    }
   ],
   "source": [
    "from keras.layers import Dropout\n",
    "from keras.callbacks import EarlyStopping\n",
    "def model_final(input_shape, output_sequence_length, english_vocab_size, french_vocab_size):\n",
    "    \"\"\"\n",
    "    Build and train a model that incorporates embedding, encoder-decoder, and bidirectional RNN on x and y\n",
    "    :param input_shape: Tuple of input shape\n",
    "    :param output_sequence_length: Length of output sequence\n",
    "    :param english_vocab_size: Number of unique English words in the dataset\n",
    "    :param french_vocab_size: Number of unique French words in the dataset\n",
    "    :return: Keras model built, but not trained\n",
    "    \"\"\"\n",
    "    # TODO: Implement\n",
    "    # TODO: Implement\n",
    "    learning_rate = 0.001\n",
    "    input_seq = Input(input_shape[1:])\n",
    "    \n",
    "\n",
    "    embed = Embedding(input_dim=english_vocab_size, output_dim=english_vocab_size)(input_seq)\n",
    "    bd1 = Bidirectional(GRU(512, return_sequences=False))(embed)\n",
    "    enc = RepeatVector(output_sequence_length)(bd1)\n",
    "    bd2 = Bidirectional(GRU(512, return_sequences=True))(enc)\n",
    "    drop = Dropout(rate=0.2)(bd2)\n",
    "    \n",
    "    logits1 = TimeDistributed(Dense(french_vocab_size*10))(drop)\n",
    "    logits2 = TimeDistributed(Dense(french_vocab_size))(logits1)\n",
    "    \n",
    "    \n",
    "    model = Model(input_seq, Activation('softmax')(logits2))\n",
    "    model.compile(loss=sparse_categorical_crossentropy,\n",
    "                  optimizer=Adam(learning_rate),\n",
    "                  metrics=['accuracy'])\n",
    "    return model\n",
    "tests.test_model_final(model_final)\n",
    "\n",
    "\n",
    "\n",
    "print('Final Model Loaded')\n",
    "tmp_x = pad(preproc_english_sentences)\n",
    "tmp_x = tmp_x.reshape((-1, preproc_english_sentences.shape[1], 1))\n",
    "tmp_x = np.squeeze(tmp_x, axis=-1)\n",
    "\n",
    "#early stopping\n",
    "es = EarlyStopping(monitor='val_acc', mode='max', verbose=1)\n",
    "# TODO: Train the neural network\n",
    "final_rnn_model = model_final(\n",
    "    tmp_x.shape,\n",
    "    max_french_sequence_length,\n",
    "    english_vocab_size,\n",
    "    french_vocab_size)\n",
    "\n",
    "\n",
    "final_rnn_model.fit(tmp_x, preproc_french_sentences, batch_size=512, epochs=40, validation_split=0.2, callbacks=[es])\n",
    "\n",
    "# TODO: Print prediction(s)\n",
    "print(logits_to_text(final_rnn_model.predict(tmp_x[:1])[0], french_tokenizer))"
   ]
  },
  {
   "cell_type": "code",
   "execution_count": 90,
   "metadata": {},
   "outputs": [
    {
     "name": "stdout",
     "output_type": "stream",
     "text": [
      "_________________________________________________________________\n",
      "Layer (type)                 Output Shape              Param #   \n",
      "=================================================================\n",
      "input_45 (InputLayer)        (None, 15)                0         \n",
      "_________________________________________________________________\n",
      "embedding_37 (Embedding)     (None, 15, 199)           39601     \n",
      "_________________________________________________________________\n",
      "bidirectional_70 (Bidirectio (None, 1024)              2187264   \n",
      "_________________________________________________________________\n",
      "repeat_vector_38 (RepeatVect (None, 21, 1024)          0         \n",
      "_________________________________________________________________\n",
      "bidirectional_71 (Bidirectio (None, 21, 1024)          4721664   \n",
      "_________________________________________________________________\n",
      "dropout_24 (Dropout)         (None, 21, 1024)          0         \n",
      "_________________________________________________________________\n",
      "time_distributed_65 (TimeDis (None, 21, 3440)          3526000   \n",
      "_________________________________________________________________\n",
      "time_distributed_66 (TimeDis (None, 21, 344)           1183704   \n",
      "_________________________________________________________________\n",
      "activation_42 (Activation)   (None, 21, 344)           0         \n",
      "=================================================================\n",
      "Total params: 11,658,233\n",
      "Trainable params: 11,658,233\n",
      "Non-trainable params: 0\n",
      "_________________________________________________________________\n"
     ]
    }
   ],
   "source": [
    "final_rnn_model.summary()"
   ]
  },
  {
   "cell_type": "code",
   "execution_count": 91,
   "metadata": {},
   "outputs": [
    {
     "data": {
      "image/png": "[encoded data removed]",
      "text/plain": [
       "<matplotlib.figure.Figure at 0x7f9c4e6dadd8>"
      ]
     },
     "metadata": {
      "needs_background": "light"
     },
     "output_type": "display_data"
    }
   ],
   "source": [
    "plt.plot(final_rnn_model.history.history['acc'], label='Acc (training data)')\n",
    "plt.plot(final_rnn_model.history.history['val_acc'], label='Acc (validation data)')\n",
    "plt.title('Final Model Accuracy')\n",
    "plt.ylabel('Acc Score')\n",
    "plt.xlabel('No. epoch')\n",
    "plt.legend(loc=\"upper left\")\n",
    "plt.show()"
   ]
  },
  {
   "cell_type": "markdown",
   "metadata": {},
   "source": [
    "## Prediction (IMPLEMENTATION)"
   ]
  },
  {
   "cell_type": "code",
   "execution_count": 92,
   "metadata": {},
   "outputs": [
    {
     "name": "stdout",
     "output_type": "stream",
     "text": [
      "Sample 1:\n",
      "il a vu un vieux camion jaune <PAD> <PAD> <PAD> <PAD> <PAD> <PAD> <PAD> <PAD> <PAD> <PAD> <PAD> <PAD> <PAD> <PAD>\n",
      "Il a vu un vieux camion jaune\n",
      "Sample 2:\n",
      "new jersey est parfois calme pendant l' automne et il est neigeux en avril <PAD> <PAD> <PAD> <PAD> <PAD> <PAD> <PAD>\n",
      "new jersey est parfois calme pendant l' automne et il est neigeux en avril <PAD> <PAD> <PAD> <PAD> <PAD> <PAD> <PAD>\n"
     ]
    }
   ],
   "source": [
    "def final_predictions(x, y, x_tk, y_tk):\n",
    "    \"\"\"\n",
    "    Gets predictions using the final model\n",
    "    :param x: Preprocessed English data\n",
    "    :param y: Preprocessed French data\n",
    "    :param x_tk: English tokenizer\n",
    "    :param y_tk: French tokenizer\n",
    "    \"\"\"\n",
    "    # TODO: Train neural network using model_final\n",
    "    # Model already trained above \n",
    "    model = final_rnn_model\n",
    "\n",
    "    \n",
    "    ## DON'T EDIT ANYTHING BELOW THIS LINE\n",
    "    y_id_to_word = {value: key for key, value in y_tk.word_index.items()}\n",
    "    y_id_to_word[0] = '<PAD>'\n",
    "\n",
    "    sentence = 'he saw a old yellow truck'\n",
    "    sentence = [x_tk.word_index[word] for word in sentence.split()]\n",
    "    sentence = pad_sequences([sentence], maxlen=x.shape[-1], padding='post')\n",
    "    sentences = np.array([sentence[0], x[0]])\n",
    "    predictions = model.predict(sentences, len(sentences))\n",
    "\n",
    "    print('Sample 1:')\n",
    "    print(' '.join([y_id_to_word[np.argmax(x)] for x in predictions[0]]))\n",
    "    print('Il a vu un vieux camion jaune')\n",
    "    print('Sample 2:')\n",
    "    print(' '.join([y_id_to_word[np.argmax(x)] for x in predictions[1]]))\n",
    "    print(' '.join([y_id_to_word[np.max(x)] for x in y[0]]))\n",
    "\n",
    "\n",
    "final_predictions(preproc_english_sentences, preproc_french_sentences, english_tokenizer, french_tokenizer)"
   ]
  },
  {
   "cell_type": "markdown",
   "metadata": {},
   "source": [
    "## Submission\n",
    "When you're ready to submit, complete the following steps:\n",
    "1. Review the [rubric](https://review.udacity.com/#!/rubrics/1004/view) to ensure your submission meets all requirements to pass\n",
    "2. Generate an HTML version of this notebook\n",
    "\n",
    "  - Run the next cell to attempt automatic generation (this is the recommended method in Workspaces)\n",
    "  - Navigate to **FILE -> Download as -> HTML (.html)**\n",
    "  - Manually generate a copy using `nbconvert` from your shell terminal\n",
    "```\n",
    "$ pip install nbconvert\n",
    "$ python -m nbconvert machine_translation.ipynb\n",
    "```\n",
    "  \n",
    "3. Submit the project\n",
    "\n",
    "  - If you are in a Workspace, simply click the \"Submit Project\" button (bottom towards the right)\n",
    "  \n",
    "  - Otherwise, add the following files into a zip archive and submit them \n",
    "  - `helper.py`\n",
    "  - `machine_translation.ipynb`\n",
    "  - `machine_translation.html`\n",
    "    - You can export the notebook by navigating to **File -> Download as -> HTML (.html)**."
   ]
  },
  {
   "cell_type": "markdown",
   "metadata": {},
   "source": [
    "### Generate the html\n",
    "\n",
    "**Save your notebook before running the next cell to generate the HTML output.** Then submit your project."
   ]
  },
  {
   "cell_type": "code",
   "execution_count": 111,
   "metadata": {},
   "outputs": [
    {
     "data": {
      "text/plain": [
       "['[NbConvertApp] Converting notebook machine_translation.ipynb to html',\n",
       " '[NbConvertApp] Writing 381897 bytes to machine_translation.html',\n",
       " '[NbConvertApp] Converting notebook machine_translation-zh.ipynb to html',\n",
       " '[NbConvertApp] Writing 328614 bytes to machine_translation-zh.html']"
      ]
     },
     "execution_count": 111,
     "metadata": {},
     "output_type": "execute_result"
    }
   ],
   "source": [
    "# Save before you run this cell!\n",
    "!!jupyter nbconvert *.ipynb"
   ]
  },
  {
   "cell_type": "markdown",
   "metadata": {},
   "source": [
    "## Optional Enhancements\n",
    "\n",
    "This project focuses on learning various network architectures for machine translation, but we don't evaluate the models according to best practices by splitting the data into separate test & training sets -- so the model accuracy is overstated. Use the [`sklearn.model_selection.train_test_split()`](http://scikit-learn.org/stable/modules/generated/sklearn.model_selection.train_test_split.html) function to create separate training & test datasets, then retrain each of the models using only the training set and evaluate the prediction accuracy using the hold out test set. Does the \"best\" model change?"
   ]
  }
 ],
 "metadata": {
  "kernelspec": {
   "display_name": "Python 3",
   "language": "python",
   "name": "python3"
  },
  "language_info": {
   "codemirror_mode": {
    "name": "ipython",
    "version": 3
   },
   "file_extension": ".py",
   "mimetype": "text/x-python",
   "name": "python",
   "nbconvert_exporter": "python",
   "pygments_lexer": "ipython3",
   "version": "3.6.3"
  }
 },
 "nbformat": 4,
 "nbformat_minor": 1
}
